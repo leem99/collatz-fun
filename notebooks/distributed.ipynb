{
 "cells": [
  {
   "cell_type": "code",
   "execution_count": 2,
   "metadata": {},
   "outputs": [],
   "source": [
    "import sys\n",
    "sys.path.extend([\"..\"])\n",
    "\n",
    "import os\n",
    "\n",
    "from collatz.runners import run_distributed_collatz\n",
    "from collatz.core import collatz_looping_with_lookup"
   ]
  },
  {
   "cell_type": "code",
   "execution_count": 4,
   "metadata": {},
   "outputs": [
    {
     "name": "stderr",
     "output_type": "stream",
     "text": [
      "2023-12-19 14:12:55,888\tINFO worker.py:1664 -- Started a local Ray instance. View the dashboard at \u001b[1m\u001b[32m127.0.0.1:8265 \u001b[39m\u001b[22m\n",
      "2023-12-19 14:12:56,016\tINFO packaging.py:530 -- Creating a file package for local directory '/Users/mlee1120/vsc_projects/collatz-fun/'.\n",
      "2023-12-19 14:12:56,120\tINFO packaging.py:358 -- Pushing file package 'gcs://_ray_pkg_baa8e26567e099e0.zip' (0.13MiB) to Ray cluster...\n",
      "2023-12-19 14:12:56,122\tINFO packaging.py:371 -- Successfully pushed file package 'gcs://_ray_pkg_baa8e26567e099e0.zip'.\n"
     ]
    },
    {
     "name": "stdout",
     "output_type": "stream",
     "text": [
      "max_workers: 11\n",
      "Returned Sorted 1, Waiting on 11\n",
      "Returned Sorted 1, Waiting on 11\n",
      "Returned Sorted 1, Waiting on 11\n",
      "Returned Sorted 1, Waiting on 11\n",
      "Returned Sorted 1, Waiting on 11\n",
      "\u001b[36m(batch_runner_with_lookup_wrapper pid=22662)\u001b[0m Failed to read /Users/mlee1120/vsc_projects/collatz-fun//data/ on attempt 1 of 10\n",
      "Returned Sorted 1, Waiting on 11\n",
      "Returned Sorted 1, Waiting on 11\n",
      "Returned Sorted 1, Waiting on 11\n",
      "Returned Sorted 1, Waiting on 11\n",
      "Returned Sorted 1, Waiting on 10\n",
      "Returned Sorted 1, Waiting on 9\n",
      "Returned Sorted 1, Waiting on 8\n",
      "Returned Sorted 1, Waiting on 7\n",
      "Returned Sorted 1, Waiting on 6\n",
      "Returned Sorted 1, Waiting on 5\n",
      "Returned Sorted 1, Waiting on 4\n",
      "Returned Sorted 1, Waiting on 3\n",
      "Returned Sorted 1, Waiting on 2\n",
      "Returned Sorted 1, Waiting on 1\n",
      "Returned Sorted 1, Waiting on 0\n",
      "done!\n"
     ]
    }
   ],
   "source": [
    "start_val = 1\n",
    "end_val = 2_000_000\n",
    "batch_size = 100_000\n",
    "working_dir = os.getcwd().strip(\"notebooks\")\n",
    "data_path = working_dir + \"/data/\"\n",
    "\n",
    "run_distributed_collatz(\n",
    "    collatz_looping_with_lookup,\n",
    "    start_val,\n",
    "    end_val,\n",
    "    batch_size,\n",
    "    working_dir,\n",
    "    data_path,\n",
    "    clear_previous=True,\n",
    "    local_mode=False)"
   ]
  },
  {
   "cell_type": "code",
   "execution_count": null,
   "metadata": {},
   "outputs": [],
   "source": []
  }
 ],
 "metadata": {
  "kernelspec": {
   "display_name": "venv",
   "language": "python",
   "name": "python3"
  },
  "language_info": {
   "codemirror_mode": {
    "name": "ipython",
    "version": 3
   },
   "file_extension": ".py",
   "mimetype": "text/x-python",
   "name": "python",
   "nbconvert_exporter": "python",
   "pygments_lexer": "ipython3",
   "version": "3.10.11"
  }
 },
 "nbformat": 4,
 "nbformat_minor": 2
}
