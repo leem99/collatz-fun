{
 "cells": [
  {
   "cell_type": "code",
   "execution_count": 5,
   "metadata": {},
   "outputs": [],
   "source": [
    "import sys\n",
    "sys.path.extend([\"..\"])\n",
    "\n",
    "import time\n",
    "from collatz.core import (\n",
    "    collatz_looping,\n",
    "    collatz_recursive,\n",
    "    collatz_looping_with_lookup, \n",
    "    batch_runner, \n",
    "    batch_runner_with_lookup)"
   ]
  },
  {
   "cell_type": "markdown",
   "metadata": {},
   "source": [
    "Time basic"
   ]
  },
  {
   "cell_type": "code",
   "execution_count": 12,
   "metadata": {},
   "outputs": [
    {
     "name": "stdout",
     "output_type": "stream",
     "text": [
      "total seconds: 48.7520911693573\n"
     ]
    }
   ],
   "source": [
    "batch = range(1, 1_000_001)\n",
    "\n",
    "start = time.time()\n",
    "batch_results = batch_runner(collatz_looping, batch)\n",
    "finish = time.time()\n",
    "\n",
    "total_seconds = finish - start\n",
    "print(f\"total seconds: {total_seconds}\")"
   ]
  },
  {
   "cell_type": "markdown",
   "metadata": {},
   "source": [
    "Time recursive"
   ]
  },
  {
   "cell_type": "code",
   "execution_count": 13,
   "metadata": {},
   "outputs": [
    {
     "name": "stdout",
     "output_type": "stream",
     "text": [
      "total seconds: 55.376757860183716\n"
     ]
    }
   ],
   "source": [
    "batch = range(1, 1_000_001)\n",
    "\n",
    "start = time.time()\n",
    "batch_results = batch_runner(collatz_recursive, batch)\n",
    "finish = time.time()\n",
    "\n",
    "total_seconds = finish - start\n",
    "print(f\"total seconds: {total_seconds}\")"
   ]
  },
  {
   "cell_type": "markdown",
   "metadata": {},
   "source": [
    "With lookup"
   ]
  },
  {
   "cell_type": "code",
   "execution_count": 11,
   "metadata": {},
   "outputs": [
    {
     "name": "stdout",
     "output_type": "stream",
     "text": [
      "total seconds: 12.043479919433594\n"
     ]
    }
   ],
   "source": [
    "batch = range(1, 1_000_001)\n",
    "\n",
    "start = time.time()\n",
    "batch_results = batch_runner_with_lookup(collatz_looping_with_lookup, batch)\n",
    "finish = time.time()\n",
    "\n",
    "total_seconds = finish - start\n",
    "print(f\"total seconds: {total_seconds}\")"
   ]
  },
  {
   "cell_type": "markdown",
   "metadata": {},
   "source": [
    "#### Can we use multi-processing?\n",
    "\n",
    "... our best performer thusfar uses caching.\n",
    "We can speed up compute by multiprocessing, but \n",
    "then workers won't be able to have common cache."
   ]
  },
  {
   "cell_type": "markdown",
   "metadata": {},
   "source": []
  }
 ],
 "metadata": {
  "kernelspec": {
   "display_name": "venv",
   "language": "python",
   "name": "python3"
  },
  "language_info": {
   "codemirror_mode": {
    "name": "ipython",
    "version": 3
   },
   "file_extension": ".py",
   "mimetype": "text/x-python",
   "name": "python",
   "nbconvert_exporter": "python",
   "pygments_lexer": "ipython3",
   "version": "3.10.11"
  }
 },
 "nbformat": 4,
 "nbformat_minor": 2
}
