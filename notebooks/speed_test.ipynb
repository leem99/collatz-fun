{
 "cells": [
  {
   "cell_type": "code",
   "execution_count": 1,
   "metadata": {},
   "outputs": [
    {
     "data": {
      "text/plain": [
       "<Experiment: artifact_location='mlflow-artifacts:/625518375075033984', creation_time=1702587571884, experiment_id='625518375075033984', last_update_time=1702587571884, lifecycle_stage='active', name='1_million_speed_test', tags={}>"
      ]
     },
     "execution_count": 1,
     "metadata": {},
     "output_type": "execute_result"
    }
   ],
   "source": [
    "import sys\n",
    "sys.path.extend([\"..\"])\n",
    "\n",
    "from collatz.core import (\n",
    "    collatz_looping,\n",
    "    collatz_recursive,\n",
    "    collatz_looping_with_lookup)\n",
    "from collatz.runners import batch_runner, batch_runner_with_lookup\n",
    "from collatz.runners import write_seq_log, read_seq_log\n",
    "from collatz.timing import timer_1_million\n",
    "\n",
    "from collections import ChainMap\n",
    "import pyarrow as pa\n",
    "import pyarrow.parquet as pq\n",
    "import mlflow\n",
    "mlflow.set_tracking_uri(\"http://127.0.0.1:5000\")\n",
    "mlflow.set_experiment(\"1_million_speed_test\")"
   ]
  },
  {
   "cell_type": "markdown",
   "metadata": {},
   "source": [
    "Time basic"
   ]
  },
  {
   "cell_type": "code",
   "execution_count": 2,
   "metadata": {},
   "outputs": [
    {
     "name": "stdout",
     "output_type": "stream",
     "text": [
      "total_seconds: 56.09759211540222\n"
     ]
    }
   ],
   "source": [
    "total_seconds = timer_1_million(\n",
    "    collatz_func=collatz_looping,\n",
    "    runner=batch_runner,\n",
    "    with_mlflow=True)"
   ]
  },
  {
   "cell_type": "markdown",
   "metadata": {},
   "source": [
    "Time recursive"
   ]
  },
  {
   "cell_type": "code",
   "execution_count": 3,
   "metadata": {},
   "outputs": [
    {
     "name": "stdout",
     "output_type": "stream",
     "text": [
      "total_seconds: 64.04801893234253\n"
     ]
    }
   ],
   "source": [
    "total_seconds = timer_1_million(\n",
    "    collatz_func=collatz_recursive,\n",
    "    runner=batch_runner,\n",
    "    with_mlflow=True)"
   ]
  },
  {
   "cell_type": "markdown",
   "metadata": {},
   "source": [
    "With lookup"
   ]
  },
  {
   "cell_type": "code",
   "execution_count": 2,
   "metadata": {},
   "outputs": [
    {
     "name": "stdout",
     "output_type": "stream",
     "text": [
      "total_seconds: 10.374543190002441\n"
     ]
    }
   ],
   "source": [
    "total_seconds = timer_1_million(\n",
    "    collatz_func=collatz_looping_with_lookup,\n",
    "    runner=batch_runner_with_lookup,\n",
    "    with_mlflow=True)"
   ]
  },
  {
   "cell_type": "markdown",
   "metadata": {},
   "source": [
    "#### Can we use multi-processing?\n",
    "\n",
    "... our best performer thusfar uses caching.\n",
    "We can speed up compute by multiprocessing, but \n",
    "then workers won't be able to have common cache."
   ]
  },
  {
   "cell_type": "code",
   "execution_count": null,
   "metadata": {},
   "outputs": [],
   "source": []
  }
 ],
 "metadata": {
  "kernelspec": {
   "display_name": "venv",
   "language": "python",
   "name": "python3"
  },
  "language_info": {
   "codemirror_mode": {
    "name": "ipython",
    "version": 3
   },
   "file_extension": ".py",
   "mimetype": "text/x-python",
   "name": "python",
   "nbconvert_exporter": "python",
   "pygments_lexer": "ipython3",
   "version": "3.10.11"
  }
 },
 "nbformat": 4,
 "nbformat_minor": 2
}
