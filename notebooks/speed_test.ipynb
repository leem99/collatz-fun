{
 "cells": [
  {
   "cell_type": "code",
   "execution_count": 1,
   "metadata": {},
   "outputs": [],
   "source": [
    "import sys\n",
    "sys.path.extend([\"..\"])\n",
    "\n",
    "from collatz.core import (\n",
    "    collatz_looping,\n",
    "    collatz_recursive,\n",
    "    collatz_looping_with_lookup)\n",
    "from collatz.runners import batch_runner, batch_runner_with_lookup\n",
    "from collatz.timing import timer\n",
    "\n",
    "import os\n",
    "import mlflow\n",
    "#mlflow.set_tracking_uri(\"http://127.0.0.1:5000\")\n",
    "#mlflow.set_experiment(\"1_million_speed_test\")"
   ]
  },
  {
   "cell_type": "markdown",
   "metadata": {},
   "source": [
    "Time basic"
   ]
  },
  {
   "cell_type": "code",
   "execution_count": 2,
   "metadata": {},
   "outputs": [
    {
     "name": "stdout",
     "output_type": "stream",
     "text": [
      "total_seconds: 56.09759211540222\n"
     ]
    }
   ],
   "source": [
    "total_seconds = timer(\n",
    "    collatz_func=collatz_looping,\n",
    "    runner=batch_runner,\n",
    "    with_mlflow=True)"
   ]
  },
  {
   "cell_type": "markdown",
   "metadata": {},
   "source": [
    "Time recursive"
   ]
  },
  {
   "cell_type": "code",
   "execution_count": 3,
   "metadata": {},
   "outputs": [
    {
     "name": "stdout",
     "output_type": "stream",
     "text": [
      "total_seconds: 64.04801893234253\n"
     ]
    }
   ],
   "source": [
    "total_seconds = timer(\n",
    "    collatz_func=collatz_recursive,\n",
    "    runner=batch_runner,\n",
    "    with_mlflow=True)"
   ]
  },
  {
   "cell_type": "markdown",
   "metadata": {},
   "source": [
    "With lookup"
   ]
  },
  {
   "cell_type": "code",
   "execution_count": 2,
   "metadata": {},
   "outputs": [
    {
     "name": "stdout",
     "output_type": "stream",
     "text": [
      "total_seconds: 10.374543190002441\n"
     ]
    }
   ],
   "source": [
    "total_seconds = timer(\n",
    "    collatz_func=collatz_looping_with_lookup,\n",
    "    runner=batch_runner_with_lookup,\n",
    "    with_mlflow=True)"
   ]
  },
  {
   "cell_type": "code",
   "execution_count": null,
   "metadata": {},
   "outputs": [],
   "source": [
    "total_seconds = timer(\n",
    "    collatz_func=collatz_looping_with_lookup,\n",
    "    runner=batch_runner_with_lookup,\n",
    "    with_mlflow=True)"
   ]
  },
  {
   "cell_type": "code",
   "execution_count": 3,
   "metadata": {},
   "outputs": [
    {
     "name": "stdout",
     "output_type": "stream",
     "text": [
      "total_seconds: 61.20083498954773\n"
     ]
    }
   ],
   "source": [
    "\n",
    "working_dir = os.getcwd().strip(\"notebooks\")\n",
    "write_path = working_dir + \"/data/batch.parquet\"\n",
    "\n",
    "total_seconds = timer(\n",
    "    collatz_func=collatz_looping_with_lookup,\n",
    "    runner=batch_runner_with_lookup,\n",
    "    batch_start=1,\n",
    "    batch_end=2_000_000,\n",
    "    with_mlflow=False,\n",
    "    write_path=write_path,\n",
    "    clear_previous=True)"
   ]
  },
  {
   "cell_type": "markdown",
   "metadata": {},
   "source": [
    "#### Can we use multi-processing?\n",
    "\n",
    "... our best performer thusfar uses caching.\n",
    "We can speed up compute by multiprocessing, but \n",
    "then workers won't be able to have common cache."
   ]
  }
 ],
 "metadata": {
  "kernelspec": {
   "display_name": "venv",
   "language": "python",
   "name": "python3"
  },
  "language_info": {
   "codemirror_mode": {
    "name": "ipython",
    "version": 3
   },
   "file_extension": ".py",
   "mimetype": "text/x-python",
   "name": "python",
   "nbconvert_exporter": "python",
   "pygments_lexer": "ipython3",
   "version": "3.10.11"
  }
 },
 "nbformat": 4,
 "nbformat_minor": 2
}
