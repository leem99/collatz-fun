{
 "cells": [
  {
   "cell_type": "code",
   "execution_count": 1,
   "metadata": {},
   "outputs": [],
   "source": [
    "import sys\n",
    "sys.path.extend([\"..\"])\n",
    "\n",
    "import time\n",
    "from collatz.core import collatz_basic, collatz_recursive, batch_runner"
   ]
  },
  {
   "cell_type": "markdown",
   "metadata": {},
   "source": [
    "Time basic"
   ]
  },
  {
   "cell_type": "code",
   "execution_count": 8,
   "metadata": {},
   "outputs": [
    {
     "name": "stdout",
     "output_type": "stream",
     "text": [
      "total seconds: 3.3461649417877197\n"
     ]
    }
   ],
   "source": [
    "batch = range(1, 100_001)\n",
    "\n",
    "start = time.time()\n",
    "batch_results = batch_runner(collatz_basic, batch)\n",
    "finish = time.time()\n",
    "\n",
    "total_seconds = finish - start\n",
    "print(f\"total seconds: {total_seconds}\")"
   ]
  },
  {
   "cell_type": "markdown",
   "metadata": {},
   "source": [
    "Time recursive"
   ]
  },
  {
   "cell_type": "code",
   "execution_count": 9,
   "metadata": {},
   "outputs": [
    {
     "name": "stdout",
     "output_type": "stream",
     "text": [
      "total seconds: 4.281601667404175\n"
     ]
    }
   ],
   "source": [
    "batch = range(1, 100_001)\n",
    "\n",
    "start = time.time()\n",
    "batch_results = batch_runner(collatz_recursive, batch)\n",
    "finish = time.time()\n",
    "\n",
    "total_seconds = finish - start\n",
    "print(f\"total seconds: {total_seconds}\")"
   ]
  },
  {
   "cell_type": "code",
   "execution_count": null,
   "metadata": {},
   "outputs": [],
   "source": []
  }
 ],
 "metadata": {
  "kernelspec": {
   "display_name": "venv",
   "language": "python",
   "name": "python3"
  },
  "language_info": {
   "codemirror_mode": {
    "name": "ipython",
    "version": 3
   },
   "file_extension": ".py",
   "mimetype": "text/x-python",
   "name": "python",
   "nbconvert_exporter": "python",
   "pygments_lexer": "ipython3",
   "version": "3.10.11"
  }
 },
 "nbformat": 4,
 "nbformat_minor": 2
}
